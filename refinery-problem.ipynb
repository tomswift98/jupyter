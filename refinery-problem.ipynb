{
 "cells": [
  {
   "cell_type": "markdown",
   "metadata": {},
   "source": [
    "## Refinery Feedstock Optimization ##\n",
    "\n",
    "*Given the following economic and crude product information, how much of each crude should a refinery process to maximize profitability?*\n",
    "\n",
    "<img src=\"refinery-problem.png\">\n",
    "\n",
    "This is a classic problem for teaching Linear Programming/LP modeling! Let's solve it with using Python's scipy.optimize.minimize function, along with some matrix algebra methods from numpy."
   ]
  },
  {
   "cell_type": "markdown",
   "metadata": {},
   "source": [
    "**Step 1: Data Entry**\n",
    "\n",
    "The tables above contain everything we need to solve the problem, but where to begin? Crude cost and operating cost are both constant, so we can start by calculating the total cost for each crude type.\n",
    "\n",
    "The cost data can be organized into lists, with the index of the list encoding which crude is associated with which price."
   ]
  },
  {
   "cell_type": "code",
   "execution_count": 2,
   "metadata": {},
   "outputs": [],
   "source": [
    "given_cost = [110, 110, 115, 120, 120, 110]\n",
    "given_opcost = [20, 17, 19, 15, 18, 17]"
   ]
  },
  {
   "cell_type": "markdown",
   "metadata": {},
   "source": [
    "We could add each element of these lists together using a generator..."
   ]
  },
  {
   "cell_type": "code",
   "execution_count": 14,
   "metadata": {},
   "outputs": [
    {
     "name": "stdout",
     "output_type": "stream",
     "text": [
      "[130, 127, 134, 135, 138, 127]\n"
     ]
    }
   ],
   "source": [
    "crude_cost = [given_cost[i]+given_opcost[i] for i in range(len(given_cost))]\n",
    "print(crude_cost)"
   ]
  },
  {
   "cell_type": "markdown",
   "metadata": {},
   "source": [
    "However, in future steps, we will need to use this cost data in matrix multiplication and dot product calculations. That means we need our cost information to be in a numpy array. Let's cast each list to a numpy array and add them together.\n",
    "\n",
    "First, we need to import numpy."
   ]
  },
  {
   "cell_type": "code",
   "execution_count": 16,
   "metadata": {},
   "outputs": [],
   "source": [
    "import numpy as np"
   ]
  },
  {
   "cell_type": "markdown",
   "metadata": {},
   "source": [
    "Now, we can calculate a `total_cost` array that will hold the total_cost information, and offer more capabilities for future calculation."
   ]
  },
  {
   "cell_type": "code",
   "execution_count": 17,
   "metadata": {},
   "outputs": [
    {
     "name": "stdout",
     "output_type": "stream",
     "text": [
      "[130 127 134 135 138 127]\n"
     ]
    }
   ],
   "source": [
    "crude_cost = np.array(given_cost) + np.array(given_opcost)\n",
    "print(crude_cost)"
   ]
  },
  {
   "cell_type": "markdown",
   "metadata": {},
   "source": [
    "With our total crude cost ($/BBL) calculated, its time to enter the crude product yield (assay) information. Since we know we will want to do matrix algebra, we can enter it directly into a numpy array."
   ]
  },
  {
   "cell_type": "code",
   "execution_count": 18,
   "metadata": {},
   "outputs": [],
   "source": [
    "assay = np.array([[0.55, 0.22,  0.15, 0.06],\n",
    "                  [0.6,  0.15,  0.2,  0.02],\n",
    "                  [0.4,  0.3,   0.25, 0.  ],\n",
    "                  [0.4,  0.35,  0.2,  0.  ],\n",
    "                  [0.5,  0.15,  0.08, 0.2 ],\n",
    "                  [0.44, 0.2,   0.1,  0.22]])"
   ]
  },
  {
   "cell_type": "markdown",
   "metadata": {},
   "source": [
    "Likewise, we can enter the sale prices of refined products."
   ]
  },
  {
   "cell_type": "code",
   "execution_count": 19,
   "metadata": {},
   "outputs": [],
   "source": [
    "product_price = np.array([160, 160, 120, 100])"
   ]
  },
  {
   "cell_type": "markdown",
   "metadata": {},
   "source": [
    "The final piece of information we need to start solving the problem is the availability and demand constraint data."
   ]
  },
  {
   "cell_type": "code",
   "execution_count": 20,
   "metadata": {},
   "outputs": [],
   "source": [
    "availability = [80000,100000,100000,95000,75000,11000]\n",
    "demand = [165000,100000,110000,80000]"
   ]
  },
  {
   "cell_type": "markdown",
   "metadata": {},
   "source": [
    "**Step 2: Goal Function**\n",
    "\n",
    "Before we get into the nitty greaty of how to use the `scipy.optimize.minimize`, let's get clever with linear algebra. The goal of this problem is to maximize profits. For a refinery, profit is difference between the money it spends to purchase crude, and the money it makes selling refined products.\n",
    "\n",
    "For this problem, the cost, or money spent buying crude, can be calculated as the dot product of a vector (one dimensional array) of crude rate, and our `crude_cost` vector. Let's call the vector of crude rates `crude_rate`.\n",
    "\n",
    "`total_cost = crude_cost • crude_rate`\n",
    "\n",
    "The same trick works to calculate the revenue generated selling refined products. The dot product of a product flow rate vector, `product_rate` and the `product_prices` vector. For this to work, we will need to somehow calculate the product rate vector.\n",
    "\n",
    "`total_revenue = product_price • product_rate`\n",
    "\n",
    "To calculate the `product_rate` vector, we can use a different linear algebra operation, matrix multiplication. Multiplying the crude rate vector with the assay array yields a vector of the product flow rates.\n",
    "\n",
    "`product_rate = [crude_rate][assay]`\n",
    "\n",
    "Combining all of the above, the equation for refinery profit is:\n",
    "\n",
    "`total_profit = product_price • ([crude_rate][assay]) - (crude_cost • crude_rate)`\n",
    "\n",
    "Finally, we can build this expression into a python function using a few numpy operations."
   ]
  },
  {
   "cell_type": "code",
   "execution_count": 21,
   "metadata": {},
   "outputs": [],
   "source": [
    "def profit(crude_rate): # objective function\n",
    "        total_profit = (np.dot(np.matmul(np.array(crude_rate), assay), product_price) \\\n",
    "                        - np.dot(crude_rate, crude_cost)) * -1\n",
    "        return total_profit"
   ]
  },
  {
   "cell_type": "markdown",
   "metadata": {},
   "source": [
    "**Step 3: Constraints**"
   ]
  },
  {
   "cell_type": "code",
   "execution_count": null,
   "metadata": {},
   "outputs": [],
   "source": [
    "from scipy.optimize import LinearConstraint"
   ]
  },
  {
   "cell_type": "code",
   "execution_count": 22,
   "metadata": {},
   "outputs": [],
   "source": [
    "avail_constraint = list(zip([0] * len(availability), availability))\n",
    "demand_constraint = LinearConstraint(assay.transpose(),[0,0,0,0], demand)"
   ]
  },
  {
   "cell_type": "markdown",
   "metadata": {},
   "source": [
    "**Step 4: Optimize!**"
   ]
  },
  {
   "cell_type": "code",
   "execution_count": 23,
   "metadata": {},
   "outputs": [
    {
     "name": "stdout",
     "output_type": "stream",
     "text": [
      "     fun: -4577079.081011802\n",
      "     jac: array([-16.5, -18. ,  -8. ,  -8. ,   4.5,  -9. ])\n",
      " message: 'Optimization terminated successfully.'\n",
      "    nfev: 245\n",
      "     nit: 29\n",
      "    njev: 28\n",
      "  status: 0\n",
      " success: True\n",
      "       x: array([ 80000.        , 100000.        ,  65937.87850952,  74499.43243739,\n",
      "            0.        ,  10966.08095736])\n"
     ]
    }
   ],
   "source": [
    "from scipy.optimize import minimize\n",
    "guess = np.array([1,1,1,1,1,1])\n",
    "results = minimize(profit, guess, constraints=demand_constraint, bounds=avail_constraint)\n",
    "print(results)"
   ]
  },
  {
   "cell_type": "markdown",
   "metadata": {},
   "source": [
    "**Step 5: Results**"
   ]
  },
  {
   "cell_type": "code",
   "execution_count": 11,
   "metadata": {},
   "outputs": [
    {
     "name": "stdout",
     "output_type": "stream",
     "text": [
      "\n",
      "\n",
      "Results:\n",
      "Variable \t\t Solution \t Constraint\n",
      "Crude 1 (BPD):\t\t 80000\t\t 80000\n",
      "Crude 2 (BPD):\t\t 100000\t\t 100000\n",
      "Crude 3 (BPD):\t\t 65938\t\t 100000\n",
      "Crude 4 (BPD):\t\t 74499\t\t 95000\n",
      "Crude 3 (BPD):\t\t 0\t\t 75000\n",
      "Crude 4 (BPD):\t\t 10966\t\t 11000\n",
      "\n",
      "Gasoline (BPD):\t\t 165000\t\t 165000\n",
      "Diesel   (BPD):\t\t 80649\t\t 100000\n",
      "Fuel Oil (BPD):\t\t 64481\t\t 110000\n",
      "Lubes    (BPD):\t\t 9213\t\t 110000\n",
      "\n",
      "Cost:\t\t\t$ 43385791.38\t\n",
      "Revenue:\t\t$ 47962870.46\t\n",
      "Profit:\t\t\t$ 4577079.08\n",
      "\n",
      "\n"
     ]
    }
   ],
   "source": [
    "x = np.array(results['x'])\n",
    "sold = np.matmul(x, assay)\n",
    "profit = results['fun'] * -1\n",
    "purchase = np.dot(x, crude_cost)\n",
    "sales = np.dot(sold, product_price)\n",
    "\n",
    "print(\"\\n\\nResults:\")\n",
    "print(\"Variable \\t\\t Solution \\t Constraint\")\n",
    "print(\"Crude 1 (BPD):\\t\\t% .0f\\t\\t% .0f\" % (x[0], availability[0]))\n",
    "print(\"Crude 2 (BPD):\\t\\t% .0f\\t\\t% .0f\" % (x[1], availability[1]))\n",
    "print(\"Crude 3 (BPD):\\t\\t% .0f\\t\\t% .0f\" % (x[2], availability[2]))\n",
    "print(\"Crude 4 (BPD):\\t\\t% .0f\\t\\t% .0f\" % (x[3], availability[3]))\n",
    "print(\"Crude 3 (BPD):\\t\\t% .0f\\t\\t% .0f\" % (x[4], availability[4]))\n",
    "print(\"Crude 4 (BPD):\\t\\t% .0f\\t\\t% .0f\\n\" % (x[5], availability[5]))\n",
    "print(\"Gasoline (BPD):\\t\\t% .0f\\t\\t% .0f\" % (sold[0], demand[0]))\n",
    "print(\"Diesel   (BPD):\\t\\t% .0f\\t\\t% .0f\" % (sold[1], demand[1]))\n",
    "print(\"Fuel Oil (BPD):\\t\\t% .0f\\t\\t% .0f\" % (sold[2], demand[2]))\n",
    "print(\"Lubes    (BPD):\\t\\t% .0f\\t\\t% .0f\\n\" % (sold[3], demand[2]))\n",
    "print(\"Cost:\\t\\t\\t$% .2f\\t\" % purchase)\n",
    "print(\"Revenue:\\t\\t$% .2f\\t\" % sales)\n",
    "print(\"Profit:\\t\\t\\t$% .2f\\n\\n\" % profit)"
   ]
  },
  {
   "cell_type": "code",
   "execution_count": null,
   "metadata": {},
   "outputs": [],
   "source": []
  }
 ],
 "metadata": {
  "kernelspec": {
   "display_name": "Python 3",
   "language": "python",
   "name": "python3"
  },
  "language_info": {
   "codemirror_mode": {
    "name": "ipython",
    "version": 3
   },
   "file_extension": ".py",
   "mimetype": "text/x-python",
   "name": "python",
   "nbconvert_exporter": "python",
   "pygments_lexer": "ipython3",
   "version": "3.7.3"
  }
 },
 "nbformat": 4,
 "nbformat_minor": 2
}
